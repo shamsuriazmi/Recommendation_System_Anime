{
 "cells": [
  {
   "cell_type": "markdown",
   "id": "dbe465e1",
   "metadata": {},
   "source": [
    "## 1. Importing Libraries"
   ]
  },
  {
   "cell_type": "code",
   "execution_count": 1,
   "id": "137e3bcf",
   "metadata": {},
   "outputs": [],
   "source": [
    "import pandas as pd\n",
    "import numpy as np\n",
    "import seaborn as sns\n",
    "import matplotlib.pyplot as plt\n",
    "import difflib\n",
    "from scipy.sparse import csr_matrix\n",
    "from sklearn.neighbors import NearestNeighbors\n",
    "from sklearn.metrics.pairwise import cosine_similarity\n",
    "from sklearn.metrics import mean_squared_error\n",
    "from sklearn.feature_extraction.text import TfidfVectorizer"
   ]
  },
  {
   "cell_type": "markdown",
   "id": "cfd772cf",
   "metadata": {},
   "source": [
    "## 2. Import Data"
   ]
  },
  {
   "cell_type": "code",
   "execution_count": 2,
   "id": "0c9b18c8",
   "metadata": {},
   "outputs": [],
   "source": [
    "#Import data --- using 1M rows for evaluation\n",
    "\n",
    "anime_rating_data = pd.read_csv(\"C:/Users/PC/Downloads/Dataset/animelist.csv\",nrows=1000000)\n",
    "anime_data = pd.read_csv(\"C:/Users/PC/Downloads/Dataset/anime.csv\")\n",
    "\n",
    "#Rename columns for MAL_ID -> Anime_id\n",
    "\n",
    "anime_data = anime_data.rename(columns={\"MAL_ID\": \"anime_id\"})\n",
    "anime_contact_data = anime_data[[\"anime_id\", \"Name\"]]"
   ]
  },
  {
   "cell_type": "markdown",
   "id": "4db0341c",
   "metadata": {},
   "source": [
    "## 3. Get the Initial Ideas of Data"
   ]
  },
  {
   "cell_type": "code",
   "execution_count": 3,
   "id": "fbc6ebab",
   "metadata": {
    "scrolled": true
   },
   "outputs": [
    {
     "data": {
      "text/html": [
       "<div>\n",
       "<style scoped>\n",
       "    .dataframe tbody tr th:only-of-type {\n",
       "        vertical-align: middle;\n",
       "    }\n",
       "\n",
       "    .dataframe tbody tr th {\n",
       "        vertical-align: top;\n",
       "    }\n",
       "\n",
       "    .dataframe thead th {\n",
       "        text-align: right;\n",
       "    }\n",
       "</style>\n",
       "<table border=\"1\" class=\"dataframe\">\n",
       "  <thead>\n",
       "    <tr style=\"text-align: right;\">\n",
       "      <th></th>\n",
       "      <th>user_id</th>\n",
       "      <th>Name</th>\n",
       "      <th>anime_id</th>\n",
       "      <th>rating</th>\n",
       "      <th>watching_status</th>\n",
       "      <th>watched_episodes</th>\n",
       "    </tr>\n",
       "  </thead>\n",
       "  <tbody>\n",
       "    <tr>\n",
       "      <th>0</th>\n",
       "      <td>0</td>\n",
       "      <td>Basilisk: Kouga Ninpou Chou</td>\n",
       "      <td>67</td>\n",
       "      <td>9</td>\n",
       "      <td>1</td>\n",
       "      <td>1</td>\n",
       "    </tr>\n",
       "    <tr>\n",
       "      <th>1</th>\n",
       "      <td>0</td>\n",
       "      <td>Fairy Tail</td>\n",
       "      <td>6702</td>\n",
       "      <td>7</td>\n",
       "      <td>1</td>\n",
       "      <td>4</td>\n",
       "    </tr>\n",
       "    <tr>\n",
       "      <th>2</th>\n",
       "      <td>0</td>\n",
       "      <td>Gokusen</td>\n",
       "      <td>242</td>\n",
       "      <td>10</td>\n",
       "      <td>1</td>\n",
       "      <td>4</td>\n",
       "    </tr>\n",
       "    <tr>\n",
       "      <th>3</th>\n",
       "      <td>0</td>\n",
       "      <td>Kuroshitsuji</td>\n",
       "      <td>4898</td>\n",
       "      <td>0</td>\n",
       "      <td>1</td>\n",
       "      <td>1</td>\n",
       "    </tr>\n",
       "    <tr>\n",
       "      <th>4</th>\n",
       "      <td>0</td>\n",
       "      <td>One Piece</td>\n",
       "      <td>21</td>\n",
       "      <td>10</td>\n",
       "      <td>1</td>\n",
       "      <td>0</td>\n",
       "    </tr>\n",
       "    <tr>\n",
       "      <th>5</th>\n",
       "      <td>0</td>\n",
       "      <td>School Rumble</td>\n",
       "      <td>24</td>\n",
       "      <td>9</td>\n",
       "      <td>1</td>\n",
       "      <td>5</td>\n",
       "    </tr>\n",
       "    <tr>\n",
       "      <th>6</th>\n",
       "      <td>0</td>\n",
       "      <td>Seto no Hanayome</td>\n",
       "      <td>2104</td>\n",
       "      <td>0</td>\n",
       "      <td>1</td>\n",
       "      <td>4</td>\n",
       "    </tr>\n",
       "    <tr>\n",
       "      <th>7</th>\n",
       "      <td>0</td>\n",
       "      <td>Skip Beat!</td>\n",
       "      <td>4722</td>\n",
       "      <td>8</td>\n",
       "      <td>1</td>\n",
       "      <td>4</td>\n",
       "    </tr>\n",
       "    <tr>\n",
       "      <th>8</th>\n",
       "      <td>0</td>\n",
       "      <td>Sora no Manimani</td>\n",
       "      <td>6098</td>\n",
       "      <td>6</td>\n",
       "      <td>1</td>\n",
       "      <td>2</td>\n",
       "    </tr>\n",
       "    <tr>\n",
       "      <th>9</th>\n",
       "      <td>0</td>\n",
       "      <td>Tokimeki Tonight</td>\n",
       "      <td>3125</td>\n",
       "      <td>9</td>\n",
       "      <td>1</td>\n",
       "      <td>29</td>\n",
       "    </tr>\n",
       "    <tr>\n",
       "      <th>10</th>\n",
       "      <td>0</td>\n",
       "      <td>Yu☆Gi☆Oh! Duel Monsters</td>\n",
       "      <td>481</td>\n",
       "      <td>10</td>\n",
       "      <td>1</td>\n",
       "      <td>79</td>\n",
       "    </tr>\n",
       "  </tbody>\n",
       "</table>\n",
       "</div>"
      ],
      "text/plain": [
       "    user_id                         Name  anime_id  rating  watching_status  \\\n",
       "0         0  Basilisk: Kouga Ninpou Chou        67       9                1   \n",
       "1         0                   Fairy Tail      6702       7                1   \n",
       "2         0                      Gokusen       242      10                1   \n",
       "3         0                 Kuroshitsuji      4898       0                1   \n",
       "4         0                    One Piece        21      10                1   \n",
       "5         0                School Rumble        24       9                1   \n",
       "6         0             Seto no Hanayome      2104       0                1   \n",
       "7         0                   Skip Beat!      4722       8                1   \n",
       "8         0             Sora no Manimani      6098       6                1   \n",
       "9         0             Tokimeki Tonight      3125       9                1   \n",
       "10        0      Yu☆Gi☆Oh! Duel Monsters       481      10                1   \n",
       "\n",
       "    watched_episodes  \n",
       "0                  1  \n",
       "1                  4  \n",
       "2                  4  \n",
       "3                  1  \n",
       "4                  0  \n",
       "5                  5  \n",
       "6                  4  \n",
       "7                  4  \n",
       "8                  2  \n",
       "9                 29  \n",
       "10                79  "
      ]
     },
     "execution_count": 3,
     "metadata": {},
     "output_type": "execute_result"
    }
   ],
   "source": [
    "#Pre-processing - Merging anime_data to anime_contact_data\n",
    "\n",
    "anime_rating_data = anime_rating_data.merge(anime_contact_data, left_on = 'anime_id', right_on = 'anime_id', how = 'left')\n",
    "anime_rating_data = anime_rating_data[[\"user_id\", \"Name\", \"anime_id\",\"rating\", \"watching_status\", \"watched_episodes\"]]\n",
    "\n",
    "#Display 10 rows of df\n",
    "anime_rating_data.head(11)"
   ]
  },
  {
   "cell_type": "code",
   "execution_count": 4,
   "id": "55bd2cae",
   "metadata": {},
   "outputs": [
    {
     "data": {
      "text/plain": [
       "(1000000, 6)"
      ]
     },
     "execution_count": 4,
     "metadata": {},
     "output_type": "execute_result"
    }
   ],
   "source": [
    "anime_rating_data.shape"
   ]
  },
  {
   "cell_type": "code",
   "execution_count": 5,
   "id": "ddaaa00a",
   "metadata": {},
   "outputs": [
    {
     "name": "stdout",
     "output_type": "stream",
     "text": [
      "<class 'pandas.core.frame.DataFrame'>\n",
      "Int64Index: 1000000 entries, 0 to 999999\n",
      "Data columns (total 6 columns):\n",
      " #   Column            Non-Null Count    Dtype \n",
      "---  ------            --------------    ----- \n",
      " 0   user_id           1000000 non-null  int64 \n",
      " 1   Name              1000000 non-null  object\n",
      " 2   anime_id          1000000 non-null  int64 \n",
      " 3   rating            1000000 non-null  int64 \n",
      " 4   watching_status   1000000 non-null  int64 \n",
      " 5   watched_episodes  1000000 non-null  int64 \n",
      "dtypes: int64(5), object(1)\n",
      "memory usage: 53.4+ MB\n"
     ]
    }
   ],
   "source": [
    "#some df info \n",
    "\n",
    "anime_rating_data.info()"
   ]
  },
  {
   "cell_type": "code",
   "execution_count": 6,
   "id": "60a3e7bc",
   "metadata": {},
   "outputs": [
    {
     "name": "stdout",
     "output_type": "stream",
     "text": [
      "user_id             0\n",
      "Name                0\n",
      "anime_id            0\n",
      "rating              0\n",
      "watching_status     0\n",
      "watched_episodes    0\n",
      "dtype: int64\n"
     ]
    }
   ],
   "source": [
    "# Look how many NA values in the data\n",
    "count_na = anime_rating_data.isna().sum()\n",
    "print(count_na)"
   ]
  },
  {
   "cell_type": "markdown",
   "id": "c66d9aaf",
   "metadata": {},
   "source": [
    "## 4. Selecting Features for Recommendation"
   ]
  },
  {
   "cell_type": "code",
   "execution_count": 7,
   "id": "84c7f904",
   "metadata": {},
   "outputs": [
    {
     "name": "stdout",
     "output_type": "stream",
     "text": [
      "['user_id', 'Name', 'anime_id', 'rating', 'watching_status', 'watched_episodes']\n"
     ]
    }
   ],
   "source": [
    "#In this case we can see the data are dense so we can move forward to recommendation system by selecting relevant features\n",
    "\n",
    "selected_features = ['user_id','Name','anime_id','rating','watching_status','watched_episodes']\n",
    "print(selected_features)"
   ]
  },
  {
   "cell_type": "code",
   "execution_count": 8,
   "id": "90f5c351",
   "metadata": {},
   "outputs": [
    {
     "data": {
      "text/plain": [
       "(1000000,)"
      ]
     },
     "execution_count": 8,
     "metadata": {},
     "output_type": "execute_result"
    }
   ],
   "source": [
    "# Combining all features - convert any int64 dtype to object(str)\n",
    "combined_features = anime_rating_data['user_id'].apply(str)+' '+anime_rating_data['Name']+' '+anime_rating_data['rating'].apply(str)+' '+anime_rating_data['watching_status'].apply(str)+' '+anime_rating_data['watched_episodes'].apply(str)\n",
    "\n",
    "combined_features.shape"
   ]
  },
  {
   "cell_type": "code",
   "execution_count": 9,
   "id": "4051b610",
   "metadata": {},
   "outputs": [],
   "source": [
    "# converting text data to feature vectors\n",
    "\n",
    "vectorizer = TfidfVectorizer()"
   ]
  },
  {
   "cell_type": "code",
   "execution_count": 10,
   "id": "58b5d469",
   "metadata": {},
   "outputs": [],
   "source": [
    "feature_vectors = vectorizer.fit_transform(combined_features)"
   ]
  },
  {
   "cell_type": "code",
   "execution_count": 12,
   "id": "53e63a0d",
   "metadata": {},
   "outputs": [
    {
     "name": "stdout",
     "output_type": "stream",
     "text": [
      "  (0, 4754)\t0.4729974659071348\n",
      "  (0, 10836)\t0.5175597188473618\n",
      "  (0, 9022)\t0.4993172863147588\n",
      "  (0, 4041)\t0.5090064658325409\n",
      "  (1, 13925)\t0.7111868916578028\n",
      "  (1, 5949)\t0.7030029908429358\n",
      "  (2, 24)\t0.32338838193226077\n",
      "  (2, 6586)\t0.9462663232046431\n",
      "  (3, 9183)\t1.0\n",
      "  (4, 11614)\t0.6824033083061536\n",
      "  (4, 11177)\t0.6192409929970358\n",
      "  (4, 24)\t0.38841513539621714\n",
      "  (5, 12327)\t0.8035820857726216\n",
      "  (5, 12657)\t0.5951939443789083\n",
      "  (6, 6951)\t0.6572883503490847\n",
      "  (6, 10869)\t0.20499146749830507\n",
      "  (6, 12877)\t0.7252244636995296\n",
      "  (7, 4082)\t0.703208738736275\n",
      "  (7, 13427)\t0.7109834525253997\n",
      "  (8, 9741)\t0.8253637039187083\n",
      "  (8, 13509)\t0.5292682121990252\n",
      "  (8, 10869)\t0.19659581839204682\n",
      "  (9, 2004)\t0.5459510704317813\n",
      "  (9, 14394)\t0.6476599193410211\n",
      "  (9, 14334)\t0.5314828854945137\n",
      "  :\t:\n",
      "  (999997, 14884)\t0.46387676637935776\n",
      "  (999997, 15010)\t0.20984989311774485\n",
      "  (999997, 4590)\t0.31350889701566165\n",
      "  (999998, 2530)\t0.4305287422456417\n",
      "  (999998, 3466)\t0.45395981505350436\n",
      "  (999998, 3393)\t0.45395981505350436\n",
      "  (999998, 9806)\t0.3373368067808646\n",
      "  (999998, 8119)\t0.39201142817737433\n",
      "  (999998, 3591)\t0.182044542827904\n",
      "  (999998, 9511)\t0.17933690941441147\n",
      "  (999998, 14238)\t0.13527613282332615\n",
      "  (999998, 14191)\t0.2267494629308286\n",
      "  (999999, 2530)\t0.5097588898292801\n",
      "  (999999, 13150)\t0.288010081864139\n",
      "  (999999, 9576)\t0.2908374951936836\n",
      "  (999999, 15010)\t0.1636443722698651\n",
      "  (999999, 4248)\t0.27740941677515607\n",
      "  (999999, 10533)\t0.28694424061518525\n",
      "  (999999, 6928)\t0.2619721404592801\n",
      "  (999999, 10149)\t0.29119741399732085\n",
      "  (999999, 7163)\t0.265126338705833\n",
      "  (999999, 3618)\t0.27268177921376274\n",
      "  (999999, 128)\t0.21175448176985515\n",
      "  (999999, 15179)\t0.18745444387272936\n",
      "  (999999, 10869)\t0.09211602736331505\n"
     ]
    }
   ],
   "source": [
    "print(feature_vectors)"
   ]
  },
  {
   "cell_type": "markdown",
   "id": "5803a8a3",
   "metadata": {},
   "source": [
    "## 5. Test Our Model and Make Some Recommendation"
   ]
  },
  {
   "cell_type": "code",
   "execution_count": null,
   "id": "b508f14e",
   "metadata": {},
   "outputs": [],
   "source": []
  }
 ],
 "metadata": {
  "kernelspec": {
   "display_name": "Python 3 (ipykernel)",
   "language": "python",
   "name": "python3"
  },
  "language_info": {
   "codemirror_mode": {
    "name": "ipython",
    "version": 3
   },
   "file_extension": ".py",
   "mimetype": "text/x-python",
   "name": "python",
   "nbconvert_exporter": "python",
   "pygments_lexer": "ipython3",
   "version": "3.9.7"
  }
 },
 "nbformat": 4,
 "nbformat_minor": 5
}
